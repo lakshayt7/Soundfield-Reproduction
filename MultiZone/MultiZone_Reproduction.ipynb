{
 "cells": [
  {
   "cell_type": "code",
   "execution_count": 1,
   "metadata": {},
   "outputs": [],
   "source": [
    "import numpy as np\n",
    "import cmath\n",
    "import sys\n",
    "import random\n",
    "import math\n",
    "from sklearn.linear_model import Lasso\n",
    "np.set_printoptions(threshold=sys.maxsize)\n",
    "def array(*args, **kwargs):\n",
    "    kwargs.setdefault(\"dtype\", np.complex)\n",
    "    return np.array(*args, **kwargs)"
   ]
  },
  {
   "cell_type": "code",
   "execution_count": 2,
   "metadata": {},
   "outputs": [],
   "source": [
    "AngRes = 2*cmath.pi/36\n",
    "Dres = 0.03\n",
    "alpha = 0.001"
   ]
  },
  {
   "cell_type": "code",
   "execution_count": 3,
   "metadata": {},
   "outputs": [],
   "source": [
    "def green(a, b, f):\n",
    "    dis = np.sqrt(np.sum(np.square(a-b)))+0j\n",
    "    k = (2*cmath.pi*f)/(343)\n",
    "    return (cmath.exp(-1j*k*dis)/dis)\n",
    "def zone(R,Theta,r,N):\n",
    "    c = np.zeros((2,), dtype = 'complex')\n",
    "    c[0],c[1] = R*cmath.cos(Theta), R*cmath.sin(Theta)\n",
    "    ans = np.zeros((N-N%36,2), dtype = 'complex')\n",
    "    for i in range(int(N/36)):\n",
    "        for j in range(36):\n",
    "            ans[i*36 + j][0], ans[i*36 + j][1] = c[0]+((r)/int(N/36))*(i+1)*cmath.cos((2*cmath.pi*(j))/36),c[1]+(r/int(N/36))*(i+1)*cmath.sin((2*cmath.pi*(j))/36)\n",
    "    return ans\n",
    "def sploc(R,n):\n",
    "    ang = (2*cmath.pi)/n\n",
    "    ans = np.zeros((n,2), dtype = 'complex')\n",
    "    for i in range(n):\n",
    "        ans[i][0], ans[i][1] = R*cmath.cos(ang*i), R*cmath.sin(ang*i)\n",
    "    return ans\n",
    "def Hq(m,n,l,R,Rz,r,theta,f):\n",
    "    m = m - m%36\n",
    "    sp = sploc(R,l)\n",
    "    zp = np.zeros((n*m,2), dtype = 'complex')\n",
    "    #below can be sped up by concat\n",
    "    for i in range(n):\n",
    "        zz = zone(Rz[i],theta[i],r[i],m)\n",
    "        for j in range(m):\n",
    "            zp[i*m+j] = zz[j] \n",
    "    H = np.zeros((n*m,l), dtype = 'complex')\n",
    "    for i in range(n*m):\n",
    "        for j in range(l):\n",
    "            H[i][j] = green(sp[j], zp[i],f)\n",
    "    return (H)\n",
    "def Dsq(m,n,Rz,thetaz,rz,n_z,f):\n",
    "    R = Rz[n_z]\n",
    "    theta = thetaz[n_z]\n",
    "    zp = np.zeros((n*m,2), dtype = 'complex')\n",
    "    #below can be sped up by concat\n",
    "    for i in range(n):\n",
    "        zz = zone(Rz[i],thetaz[i],rz[i],m)\n",
    "        for j in range(m):\n",
    "            zp[i*m+j] = zz[j] \n",
    "    s = np.zeros((2,), dtype = 'complex')\n",
    "    s[0], s[1] = R*cmath.cos(theta), R*cmath.sin(theta)\n",
    "    D = np.zeros((m*n,), dtype = 'complex')\n",
    "    for i in range(m*n):\n",
    "        if i < m*n_z or i >= m*(n_z+1) :\n",
    "            D[i] = green(zp[i],s,f)*alpha\n",
    "        else:\n",
    "            D[i] = green(zp[i],s,f)\n",
    "    return (D)\n",
    "def Solver(m,n,l,R,Rz,thetaz,rz,f):\n",
    "    H = Hq(m,n,l,R,Rz,thetaz,rz,f)\n",
    "    hq = np.zeros((2*m*n,2*l))\n",
    "    for i in range(n):\n",
    "        Dt = Dsq(m,n,Rz,thetaz,rz,i,f)\n",
    "        if i!=0:\n",
    "            D = np.vstack((D,Dt))\n",
    "        else:\n",
    "            D = Dsq(m,n,Rz,thetaz,rz,i,f)\n",
    "    D = np.transpose(D)\n",
    "    dsq = np.zeros((2*m*n,n))\n",
    "    for i in range(m*n):\n",
    "        for j in range(l):\n",
    "            hq[2*i][2*j] = np.real(H[i][j])\n",
    "            hq[2*i][2*j+1] = -np.imag(H[i][j])\n",
    "            hq[2*i+1][2*j] = np.imag(H[i][j])\n",
    "            hq[2*i+1][2*j+1] = np.real(H[i][j])\n",
    "    for j in range(n):\n",
    "        for i in range(m*n):\n",
    "            dsq[2*i][j] = np.real(D[i][j])\n",
    "            dsq[2*i+1][j] = np.imag(D[i][j])\n",
    "    lm = np.matmul(np.transpose(H),D)\n",
    "    #alp=(75/4700000)*np.abs(np.max(lm))\n",
    "    alp=20\n",
    "    lasso = Lasso(alpha=alp, max_iter=10000000)\n",
    "    lasso.fit(hq,dsq)\n",
    "    Wr = np.transpose(lasso.coef_)\n",
    "    W = np.zeros((l,n),dtype='complex')\n",
    "    for i in range(l):\n",
    "        for j in range(n):\n",
    "            W[i][j] = Wr[2*i][j]+Wr[2*i+1][j]*1j\n",
    "    \n",
    "    return W, D"
   ]
  },
  {
   "cell_type": "code",
   "execution_count": 4,
   "metadata": {},
   "outputs": [],
   "source": [
    "m = 360\n",
    "n = 5\n",
    "l = 150\n",
    "R = 0.2\n",
    "nf = 3\n",
    "R_r = 4#Ratio between zone and total radius\n",
    "o = 0.\n",
    "for i in range(900): \n",
    "    rz = []\n",
    "    Rz = []\n",
    "    thetaz = []\n",
    "    F = []\n",
    "    for k in range(n):\n",
    "        rtemp = random.uniform(0,R/R_r)\n",
    "        rz.append(rtemp)\n",
    "        flag=-1\n",
    "        while flag==-1:\n",
    "            flag=0\n",
    "            Rtemp = random.uniform(0,R-rtemp)\n",
    "            phi = random.uniform(-math.pi,math.pi)\n",
    "            for g in range(k):\n",
    "                if (rz[g]+rtemp)>math.sqrt(Rz[g]**2+Rtemp**2+2*Rtemp*Rz[g]*math.cos(thetaz[g]-phi)):\n",
    "                    flag=-1\n",
    "        Rz.append(Rtemp)\n",
    "        thetaz.append(phi)\n",
    "    for i in range(nf):\n",
    "        f = random.uniform(500,2000)\n",
    "        F.append(f)\n",
    "    Wt = np.zeros((l,n))\n",
    "    j = 0.\n",
    "    for f in F:\n",
    "        W, Dt = (Solver(m,n,l,R,Rz,thetaz,rz,f))\n",
    "        W = (np.abs(W) > 0.01).astype(int)\n",
    "        Wt = W+Wt\n",
    "        if(j==0):\n",
    "            D = Dt\n",
    "            j = -1\n",
    "        else:\n",
    "            D = np.dstack((D,Dt)) \n",
    "    Wt = (np.abs(Wt) > 0.01).astype(int)\n",
    "    W = np.zeros((l,))\n",
    "    for i in range(np.shape(Wt)[1]):\n",
    "        W = W+Wt[:,i]\n",
    "    W = (np.abs(W)>0.1).astype(int)\n",
    "    if o==0:\n",
    "        o=1\n",
    "        Wd = W;\n",
    "        Rzd = Rz\n",
    "        rzd = rz\n",
    "        Dd = np.ravel(D)\n",
    "        Fd = F\n",
    "        thetazd = thetaz\n",
    "    else:\n",
    "        Wd = np.dstack((Wd,W))\n",
    "        Rzd = np.dstack((Rzd,Rz))\n",
    "        rzd = np.dstack((rzd,rz))\n",
    "        #D = np.reshape(D, (m*n,n,nf,1))\n",
    "        D = np.ravel(D)\n",
    "        Dd = np.dstack((Dd,D))\n",
    "        Fd = np.dstack((Fd,F))\n",
    "        thetazd = np.dstack((thetazd,thetaz))\n",
    "np.savetxt('Documents//W.csv', Wd[0], delimiter=',')\n",
    "np.savetxt('Documents//D.csv', Dd[0], delimiter=',')\n",
    "np.savetxt('Documents//F.csv', Fd[0], delimiter=',')\n",
    "np.savetxt('Documents//thetaz.csv', thetazd[0], delimiter=',')\n",
    "np.savetxt('Documents//radiuszone.csv', rzd[0], delimiter=',')\n",
    "np.savetxt('Documents//Radialzonedistance.csv', Rzd[0], delimiter=',')"
   ]
  },
  {
   "cell_type": "code",
   "execution_count": 39,
   "metadata": {},
   "outputs": [
    {
     "data": {
      "text/plain": [
       "(150, 1000)"
      ]
     },
     "execution_count": 39,
     "metadata": {},
     "output_type": "execute_result"
    }
   ],
   "source": [
    "np.shape(Wd[0])"
   ]
  },
  {
   "cell_type": "code",
   "execution_count": 10,
   "metadata": {},
   "outputs": [],
   "source": [
    "sad = np.loadtxt('Documents//D.csv', delimiter=',',dtype='complex')"
   ]
  },
  {
   "cell_type": "code",
   "execution_count": 11,
   "metadata": {},
   "outputs": [
    {
     "data": {
      "text/plain": [
       "(27000, 900)"
      ]
     },
     "execution_count": 11,
     "metadata": {},
     "output_type": "execute_result"
    }
   ],
   "source": [
    "np.shape(sad)"
   ]
  },
  {
   "cell_type": "code",
   "execution_count": null,
   "metadata": {},
   "outputs": [],
   "source": []
  }
 ],
 "metadata": {
  "kernelspec": {
   "display_name": "Python 3",
   "language": "python",
   "name": "python3"
  },
  "language_info": {
   "codemirror_mode": {
    "name": "ipython",
    "version": 3
   },
   "file_extension": ".py",
   "mimetype": "text/x-python",
   "name": "python",
   "nbconvert_exporter": "python",
   "pygments_lexer": "ipython3",
   "version": "3.7.5"
  }
 },
 "nbformat": 4,
 "nbformat_minor": 2
}
